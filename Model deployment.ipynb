{
 "cells": [
  {
   "cell_type": "code",
   "execution_count": 1,
   "id": "2726671c",
   "metadata": {},
   "outputs": [],
   "source": [
    "import numpy as np"
   ]
  },
  {
   "cell_type": "code",
   "execution_count": 2,
   "id": "1147b5e8",
   "metadata": {},
   "outputs": [],
   "source": [
    "from flask import Flask, request, render_template"
   ]
  },
  {
   "cell_type": "code",
   "execution_count": 3,
   "id": "b208030f",
   "metadata": {},
   "outputs": [],
   "source": [
    "import pickle"
   ]
  },
  {
   "cell_type": "code",
   "execution_count": 4,
   "id": "b5a731f6",
   "metadata": {},
   "outputs": [],
   "source": [
    "#Create an app object using the Flask class. \n",
    "app = Flask(__name__)"
   ]
  },
  {
   "cell_type": "code",
   "execution_count": 5,
   "id": "b0b03759",
   "metadata": {},
   "outputs": [],
   "source": [
    "#Load the trained model. (Pickle file)\n",
    "model = pickle.load(open('rf_reg.pkl', 'rb'))      #rf_reg.pkl"
   ]
  },
  {
   "cell_type": "code",
   "execution_count": 6,
   "id": "6aa08839",
   "metadata": {},
   "outputs": [],
   "source": [
    "@app.route('/')\n",
    "def home():\n",
    "    return render_template('uber fare.html')"
   ]
  },
  {
   "cell_type": "code",
   "execution_count": 7,
   "id": "4981094e",
   "metadata": {},
   "outputs": [],
   "source": [
    "@app.route('/predict',methods=['POST'])\n",
    "def predict():\n",
    "\n",
    "    int_features = [float(x) for x in request.form.values()]\n",
    "    features = [np.array(int_features)]  \n",
    "    prediction = model.predict(features) \n",
    "\n",
    "    output = round(prediction[0], 2)\n",
    "\n",
    "    return render_template('uber fare.html', prediction_text='Uber fare Amount prediction {}'.format(output))\n"
   ]
  },
  {
   "cell_type": "code",
   "execution_count": 8,
   "id": "3c182973",
   "metadata": {},
   "outputs": [
    {
     "name": "stdout",
     "output_type": "stream",
     "text": [
      " * Serving Flask app '__main__'\n",
      " * Debug mode: off\n"
     ]
    },
    {
     "name": "stderr",
     "output_type": "stream",
     "text": [
      "WARNING: This is a development server. Do not use it in a production deployment. Use a production WSGI server instead.\n",
      " * Running on http://127.0.0.1:5000\n",
      "Press CTRL+C to quit\n",
      "[2023-06-10 15:23:36,385] ERROR in app: Exception on / [GET]\n",
      "Traceback (most recent call last):\n",
      "  File \"C:\\Users\\sande\\anaconda3\\envs\\tensorflow\\lib\\site-packages\\flask\\app.py\", line 2190, in wsgi_app\n",
      "    response = self.full_dispatch_request()\n",
      "  File \"C:\\Users\\sande\\anaconda3\\envs\\tensorflow\\lib\\site-packages\\flask\\app.py\", line 1486, in full_dispatch_request\n",
      "    rv = self.handle_user_exception(e)\n",
      "  File \"C:\\Users\\sande\\anaconda3\\envs\\tensorflow\\lib\\site-packages\\flask\\app.py\", line 1484, in full_dispatch_request\n",
      "    rv = self.dispatch_request()\n",
      "  File \"C:\\Users\\sande\\anaconda3\\envs\\tensorflow\\lib\\site-packages\\flask\\app.py\", line 1469, in dispatch_request\n",
      "    return self.ensure_sync(self.view_functions[rule.endpoint])(**view_args)\n",
      "  File \"C:\\Users\\sande\\AppData\\Local\\Temp\\ipykernel_12176\\402040486.py\", line 3, in home\n",
      "    return render_template('uber fare.html')\n",
      "  File \"C:\\Users\\sande\\anaconda3\\envs\\tensorflow\\lib\\site-packages\\flask\\templating.py\", line 150, in render_template\n",
      "    template = app.jinja_env.get_or_select_template(template_name_or_list)\n",
      "  File \"C:\\Users\\sande\\anaconda3\\envs\\tensorflow\\lib\\site-packages\\jinja2\\environment.py\", line 1081, in get_or_select_template\n",
      "    return self.get_template(template_name_or_list, parent, globals)\n",
      "  File \"C:\\Users\\sande\\anaconda3\\envs\\tensorflow\\lib\\site-packages\\jinja2\\environment.py\", line 1010, in get_template\n",
      "    return self._load_template(name, globals)\n",
      "  File \"C:\\Users\\sande\\anaconda3\\envs\\tensorflow\\lib\\site-packages\\jinja2\\environment.py\", line 969, in _load_template\n",
      "    template = self.loader.load(self, name, self.make_globals(globals))\n",
      "  File \"C:\\Users\\sande\\anaconda3\\envs\\tensorflow\\lib\\site-packages\\jinja2\\loaders.py\", line 126, in load\n",
      "    source, filename, uptodate = self.get_source(environment, name)\n",
      "  File \"C:\\Users\\sande\\anaconda3\\envs\\tensorflow\\lib\\site-packages\\flask\\templating.py\", line 64, in get_source\n",
      "    return self._get_source_fast(environment, template)\n",
      "  File \"C:\\Users\\sande\\anaconda3\\envs\\tensorflow\\lib\\site-packages\\flask\\templating.py\", line 98, in _get_source_fast\n",
      "    raise TemplateNotFound(template)\n",
      "jinja2.exceptions.TemplateNotFound: uber fare.html\n",
      "127.0.0.1 - - [10/Jun/2023 15:23:36] \"GET / HTTP/1.1\" 500 -\n",
      "127.0.0.1 - - [10/Jun/2023 15:23:40] \"GET /favicon.ico HTTP/1.1\" 404 -\n"
     ]
    }
   ],
   "source": [
    "if __name__ == \"__main__\":\n",
    "    app.run()"
   ]
  },
  {
   "cell_type": "code",
   "execution_count": null,
   "id": "6240cb8a",
   "metadata": {},
   "outputs": [],
   "source": []
  }
 ],
 "metadata": {
  "kernelspec": {
   "display_name": "Python 3 (ipykernel)",
   "language": "python",
   "name": "python3"
  },
  "language_info": {
   "codemirror_mode": {
    "name": "ipython",
    "version": 3
   },
   "file_extension": ".py",
   "mimetype": "text/x-python",
   "name": "python",
   "nbconvert_exporter": "python",
   "pygments_lexer": "ipython3",
   "version": "3.10.11"
  }
 },
 "nbformat": 4,
 "nbformat_minor": 5
}
